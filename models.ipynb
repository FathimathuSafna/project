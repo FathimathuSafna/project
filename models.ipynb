{
  "cells": [
    {
      "cell_type": "code",
      "execution_count": 1,
      "metadata": {
        "id": "zwFnJsE6vjf8"
      },
      "outputs": [],
      "source": [
        "import numpy as np\n",
        "import pandas as pd\n",
        "import matplotlib.pyplot as plt"
      ]
    },
    {
      "cell_type": "code",
      "execution_count": 2,
      "metadata": {
        "colab": {
          "base_uri": "https://localhost:8080/"
        },
        "id": "gJr_9dXGpJ05",
        "outputId": "a22415fa-8dbd-4098-9bcf-89a7345d4ac9"
      },
      "outputs": [
        {
          "name": "stdout",
          "output_type": "stream",
          "text": [
            "Requirement already satisfied: kaggle in /usr/local/lib/python3.11/dist-packages (1.6.17)\n",
            "Requirement already satisfied: six>=1.10 in /usr/local/lib/python3.11/dist-packages (from kaggle) (1.17.0)\n",
            "Requirement already satisfied: certifi>=2023.7.22 in /usr/local/lib/python3.11/dist-packages (from kaggle) (2025.1.31)\n",
            "Requirement already satisfied: python-dateutil in /usr/local/lib/python3.11/dist-packages (from kaggle) (2.8.2)\n",
            "Requirement already satisfied: requests in /usr/local/lib/python3.11/dist-packages (from kaggle) (2.32.3)\n",
            "Requirement already satisfied: tqdm in /usr/local/lib/python3.11/dist-packages (from kaggle) (4.67.1)\n",
            "Requirement already satisfied: python-slugify in /usr/local/lib/python3.11/dist-packages (from kaggle) (8.0.4)\n",
            "Requirement already satisfied: urllib3 in /usr/local/lib/python3.11/dist-packages (from kaggle) (2.3.0)\n",
            "Requirement already satisfied: bleach in /usr/local/lib/python3.11/dist-packages (from kaggle) (6.2.0)\n",
            "Requirement already satisfied: webencodings in /usr/local/lib/python3.11/dist-packages (from bleach->kaggle) (0.5.1)\n",
            "Requirement already satisfied: text-unidecode>=1.3 in /usr/local/lib/python3.11/dist-packages (from python-slugify->kaggle) (1.3)\n",
            "Requirement already satisfied: charset-normalizer<4,>=2 in /usr/local/lib/python3.11/dist-packages (from requests->kaggle) (3.4.1)\n",
            "Requirement already satisfied: idna<4,>=2.5 in /usr/local/lib/python3.11/dist-packages (from requests->kaggle) (3.10)\n"
          ]
        }
      ],
      "source": [
        "!pip install kaggle"
      ]
    },
    {
      "cell_type": "code",
      "execution_count": 3,
      "metadata": {
        "id": "-gE-Ez1qtyIA"
      },
      "outputs": [],
      "source": [
        "import json\n",
        "\n",
        "kaggle_credentials = json.load(open(\"kaggle.json\"))"
      ]
    },
    {
      "cell_type": "code",
      "execution_count": 4,
      "metadata": {
        "id": "zqZ2Rj8xoE6c"
      },
      "outputs": [],
      "source": [
        "import os\n",
        "os.environ['KAGGLE_USERNAME'] = kaggle_credentials['username']\n",
        "os.environ['KAGGLE_KEY'] = kaggle_credentials['key']"
      ]
    },
    {
      "cell_type": "code",
      "execution_count": 5,
      "metadata": {
        "colab": {
          "base_uri": "https://localhost:8080/"
        },
        "id": "e2pdn6AjoHld",
        "outputId": "692e93c1-2061-4938-af77-f4003137dd8f"
      },
      "outputs": [
        {
          "name": "stdout",
          "output_type": "stream",
          "text": [
            "Dataset URL: https://www.kaggle.com/datasets/arjuntejaswi/plant-village\n",
            "License(s): unknown\n",
            "plant-village.zip: Skipping, found more recently modified local copy (use --force to force download)\n"
          ]
        }
      ],
      "source": [
        "!kaggle datasets download -d arjuntejaswi/plant-village"
      ]
    },
    {
      "cell_type": "code",
      "execution_count": 6,
      "metadata": {
        "colab": {
          "base_uri": "https://localhost:8080/"
        },
        "id": "S8YA26iAoK2M",
        "outputId": "fff9cd3e-35f6-408b-ea9b-1336c01dfcc7"
      },
      "outputs": [
        {
          "name": "stdout",
          "output_type": "stream",
          "text": [
            "kaggle.json  models.pth  PlantVillage  plant-village.zip  sample_data\n"
          ]
        }
      ],
      "source": [
        "!ls"
      ]
    },
    {
      "cell_type": "code",
      "execution_count": 7,
      "metadata": {
        "id": "RnDMgIpWoOFP"
      },
      "outputs": [],
      "source": [
        "from zipfile import ZipFile\n",
        "\n",
        "with ZipFile(\"plant-village.zip\", 'r') as zip_ref:\n",
        "    zip_ref.extractall()\n"
      ]
    },
    {
      "cell_type": "code",
      "execution_count": 8,
      "metadata": {
        "id": "UOhMsGSDCWl5"
      },
      "outputs": [],
      "source": [
        "import torch\n",
        "import torch.nn as nn\n",
        "import torch.optim as optim\n",
        "import torch.nn.functional as F\n",
        "import torchvision.transforms as transforms\n",
        "import torchvision.datasets as datasets\n",
        "from torch.utils.data import DataLoader, random_split\n",
        "import numpy as np\n",
        "import random\n",
        "import matplotlib.pyplot as plt\n",
        "from torch.cuda.amp import autocast, GradScaler\n",
        "from PIL import Image\n",
        "\n"
      ]
    },
    {
      "cell_type": "code",
      "execution_count": 9,
      "metadata": {
        "id": "R9jzDci5oPhr"
      },
      "outputs": [],
      "source": [
        "\n",
        "class DepthwiseSeparableConv(nn.Module):\n",
        "    def __init__(self, in_channels, out_channels, kernel_size=3, padding=1):\n",
        "        super().__init__()\n",
        "        self.depthwise = nn.Conv2d(in_channels, in_channels, kernel_size, padding=padding, groups=in_channels)\n",
        "        self.pointwise = nn.Conv2d(in_channels, out_channels, kernel_size=1)\n",
        "\n",
        "    def forward(self, x):\n",
        "        x = self.depthwise(x)\n",
        "        x = self.pointwise(x)\n",
        "        return x\n",
        "\n",
        "class FasterCNN(nn.Module):\n",
        "    def __init__(self, num_classes):\n",
        "        super(FasterCNN, self).__init__()\n",
        "        self.conv_layers = nn.Sequential(\n",
        "            DepthwiseSeparableConv(3, 48),  \n",
        "            nn.ReLU(),\n",
        "            nn.BatchNorm2d(48),\n",
        "            DepthwiseSeparableConv(48, 96), \n",
        "            nn.ReLU(),\n",
        "            nn.BatchNorm2d(96),\n",
        "            nn.MaxPool2d(2, 2),\n",
        "            DepthwiseSeparableConv(96, 192), \n",
        "            nn.ReLU(),\n",
        "            nn.BatchNorm2d(192),\n",
        "            nn.MaxPool2d(2, 2),\n",
        "        )\n",
        "\n",
        "        self.global_avg_pool = nn.AdaptiveAvgPool2d(1)\n",
        "        self.fc_layers = nn.Sequential(\n",
        "            nn.Dropout(0.4),  \n",
        "            nn.Linear(192, num_classes)  \n",
        "        )\n",
        "\n",
        "    def forward(self, x):\n",
        "        x = self.conv_layers(x)\n",
        "        x = self.global_avg_pool(x)\n",
        "        x = x.view(x.size(0), -1)\n",
        "        x = self.fc_layers(x)\n",
        "        return x"
      ]
    },
    {
      "cell_type": "code",
      "execution_count": 10,
      "metadata": {
        "id": "zeM5afRn4p2S"
      },
      "outputs": [],
      "source": [
        "# ✅ Step 1: Define Transformations\n",
        "train_transform = transforms.Compose([\n",
        "    transforms.Resize((128, 128)),  \n",
        "    transforms.RandomResizedCrop(128, scale=(0.7, 1.0)),\n",
        "    transforms.RandomHorizontalFlip(),\n",
        "    transforms.ToTensor(),\n",
        "    transforms.Normalize(mean=[0.5, 0.5, 0.5], std=[0.5, 0.5, 0.5])\n",
        "])\n",
        "\n",
        "test_transform = transforms.Compose([\n",
        "    transforms.Resize((128, 128)),\n",
        "    transforms.ToTensor(),\n",
        "    transforms.Normalize(mean=[0.5, 0.5, 0.5], std=[0.5, 0.5, 0.5])\n",
        "])\n"
      ]
    },
    {
      "cell_type": "code",
      "execution_count": 11,
      "metadata": {
        "id": "oklTlIY34yCW"
      },
      "outputs": [],
      "source": [
        "# ✅ Step 2: Load Dataset & Split into Train and Test\n",
        "full_dataset = datasets.ImageFolder(root=\"PlantVillage\", transform=train_transform)\n",
        "\n",
        "train_size = int(0.8 * len(full_dataset))\n",
        "test_size = len(full_dataset) - train_size\n",
        "train_data, test_data = random_split(full_dataset, [train_size, test_size])"
      ]
    },
    {
      "cell_type": "code",
      "execution_count": 12,
      "metadata": {
        "colab": {
          "base_uri": "https://localhost:8080/"
        },
        "id": "NzbboEYP5ybw",
        "outputId": "aa128a83-79c5-4c66-da01-218722f271f5"
      },
      "outputs": [
        {
          "name": "stdout",
          "output_type": "stream",
          "text": [
            "Dataset split: 16510 train, 4128 test.\n",
            "Number of Classes: 15\n"
          ]
        },
        {
          "name": "stderr",
          "output_type": "stream",
          "text": [
            "/usr/local/lib/python3.11/dist-packages/torch/utils/data/dataloader.py:617: UserWarning: This DataLoader will create 4 worker processes in total. Our suggested max number of worker in current system is 2, which is smaller than what this DataLoader is going to create. Please be aware that excessive worker creation might get DataLoader running slow or even freeze, lower the worker number to avoid potential slowness/freeze if necessary.\n",
            "  warnings.warn(\n"
          ]
        }
      ],
      "source": [
        "# Assign correct transformations\n",
        "train_data.dataset.transform = train_transform\n",
        "test_data.dataset.transform = test_transform\n",
        "\n",
        "\n",
        "train_loader = DataLoader(train_data, batch_size=16, shuffle=True, num_workers=4)\n",
        "test_loader = DataLoader(test_data, batch_size=16, shuffle=False, num_workers=4)\n",
        "\n",
        "\n",
        "num_classes = len(full_dataset.classes)  # Get number of classes\n",
        "print(f\"Dataset split: {train_size} train, {test_size} test.\")\n",
        "print(f\"Number of Classes: {num_classes}\")"
      ]
    },
    {
      "cell_type": "code",
      "execution_count": 13,
      "metadata": {
        "id": "tagX8v9b57eX"
      },
      "outputs": [],
      "source": [
        "# ✅ Step 3: Define CNN Model (More Layers)\n",
        "import torch.nn.functional as F\n",
        "def mixup_data(x, y, alpha=1.0):\n",
        "    if alpha > 0:\n",
        "        lam = np.random.beta(alpha, alpha)\n",
        "    else:\n",
        "        lam = 1\n",
        "\n",
        "    index = torch.randperm(x.size(0)).to(x.device)\n",
        "    mixed_x = lam * x + (1 - lam) * x[index, :]\n",
        "    y_a, y_b = y, y[index]\n",
        "    return mixed_x, y_a, y_b, lam\n",
        "\n",
        "def mixup_criterion(criterion, pred, y_a, y_b, lam):\n",
        "    return lam * criterion(pred, y_a) + (1 - lam) * criterion(pred, y_b)"
      ]
    },
    {
      "cell_type": "code",
      "execution_count": 14,
      "metadata": {
        "id": "fq4lqoNK1HsB"
      },
      "outputs": [],
      "source": [
        "# Define device (Use GPU if available, else fallback to CPU)\n",
        "device = torch.device(\"cuda\" if torch.cuda.is_available() else \"cpu\")\n",
        "\n",
        "# Now initialize the model\n",
        "model = FasterCNN(num_classes=num_classes).to(device)\n"
      ]
    },
    {
      "cell_type": "code",
      "execution_count": 18,
      "metadata": {
        "id": "oNPtPb255_8N"
      },
      "outputs": [],
      "source": [
        "# ✅ Step 4: Initialize Model, Loss & Optimizer\n",
        "model = FasterCNN(num_classes=num_classes).to(device)\n",
        "criterion = nn.CrossEntropyLoss()\n",
        "optimizer = torch.optim.Adam(model.parameters(), lr=0.04)\n",
        "scheduler = optim.lr_scheduler.CosineAnnealingLR(optimizer, T_max=30)"
      ]
    },
    {
      "cell_type": "code",
      "execution_count": 19,
      "metadata": {
        "colab": {
          "base_uri": "https://localhost:8080/"
        },
        "id": "XAEsvLF26W0j",
        "outputId": "4aaa3a2b-a75a-46ef-dea1-a25a61280efd"
      },
      "outputs": [
        {
          "name": "stderr",
          "output_type": "stream",
          "text": [
            "<ipython-input-19-bd0b9110d002>:2: FutureWarning: `torch.cuda.amp.GradScaler(args...)` is deprecated. Please use `torch.amp.GradScaler('cuda', args...)` instead.\n",
            "  scaler = torch.cuda.amp.GradScaler()\n"
          ]
        }
      ],
      "source": [
        "# ✅ Step 5: Enable Mixed Precision (FP16 Training)\n",
        "scaler = torch.cuda.amp.GradScaler()"
      ]
    },
    {
      "cell_type": "code",
      "execution_count": 20,
      "metadata": {
        "colab": {
          "base_uri": "https://localhost:8080/"
        },
        "id": "9w2dcNEF6aBj",
        "outputId": "a76f91dd-7c42-4df9-8788-61d15af64db1"
      },
      "outputs": [
        {
          "name": "stderr",
          "output_type": "stream",
          "text": [
            "<ipython-input-20-6aeadd33b9f9>:6: FutureWarning: `torch.cuda.amp.GradScaler(args...)` is deprecated. Please use `torch.amp.GradScaler('cuda', args...)` instead.\n",
            "  scaler = GradScaler()\n",
            "<ipython-input-20-6aeadd33b9f9>:22: FutureWarning: `torch.cuda.amp.autocast(args...)` is deprecated. Please use `torch.amp.autocast('cuda', args...)` instead.\n",
            "  with autocast():\n"
          ]
        },
        {
          "name": "stdout",
          "output_type": "stream",
          "text": [
            "Epoch [1/10], Loss: 1.6734, Accuracy: 53.51%\n",
            "✔ Model Saved!\n",
            "Epoch [2/10], Loss: 1.3672, Accuracy: 67.64%\n",
            "✔ Model Saved!\n",
            "Epoch [3/10], Loss: 1.2318, Accuracy: 65.87%\n",
            "Epoch [4/10], Loss: 1.0895, Accuracy: 70.71%\n",
            "✔ Model Saved!\n",
            "Epoch [5/10], Loss: 1.0250, Accuracy: 83.48%\n",
            "✔ Model Saved!\n",
            "Epoch [6/10], Loss: 1.0223, Accuracy: 82.78%\n",
            "Epoch [7/10], Loss: 0.9210, Accuracy: 70.93%\n",
            "Epoch [8/10], Loss: 0.8847, Accuracy: 79.53%\n",
            "Epoch [9/10], Loss: 0.8542, Accuracy: 87.35%\n",
            "✔ Model Saved!\n",
            "Epoch [10/10], Loss: 0.8186, Accuracy: 81.06%\n"
          ]
        }
      ],
      "source": [
        "# Initialize GradScaler for mixed precision training\n",
        "scaler = GradScaler()\n",
        "\n",
        "num_epochs = 10\n",
        "best_accuracy = 0.0\n",
        "\n",
        "train_losses = []   # Store training loss for each epoch\n",
        "val_accuracies = [] # Store validation accuracy for each epoch\n",
        "\n",
        "for epoch in range(num_epochs):\n",
        "    model.train()\n",
        "    running_loss = 0.0\n",
        "\n",
        "    for images, labels in train_loader:\n",
        "        images, labels = images.to(device), labels.to(device)\n",
        "\n",
        "        optimizer.zero_grad()\n",
        "        with autocast():\n",
        "            outputs = model(images)\n",
        "            loss = criterion(outputs, labels)\n",
        "\n",
        "        scaler.scale(loss).backward()  # Scale loss and backpropagate\n",
        "        scaler.step(optimizer)         # Update weights\n",
        "        scaler.update()                # Update the scale for next iteration\n",
        "\n",
        "        running_loss += loss.item()\n",
        "\n",
        "    avg_train_loss = running_loss / len(train_loader)\n",
        "    train_losses.append(avg_train_loss)  # Store loss for this epoch\n",
        "\n",
        "    # Validation\n",
        "    model.eval()\n",
        "    correct = 0\n",
        "    total = 0\n",
        "\n",
        "    with torch.no_grad():\n",
        "        for images, labels in test_loader:\n",
        "            images, labels = images.to(device), labels.to(device)\n",
        "            outputs = model(images)\n",
        "            _, predicted = torch.max(outputs, 1)\n",
        "            total += labels.size(0)\n",
        "            correct += (predicted == labels).sum().item()\n",
        "\n",
        "    accuracy = 100 * correct / total\n",
        "    val_accuracies.append(accuracy)\n",
        "\n",
        "    print(f\"Epoch [{epoch+1}/{num_epochs}], Loss: {avg_train_loss:.4f}, Accuracy: {accuracy:.2f}%\")\n",
        "\n",
        "    # Save best model\n",
        "    if accuracy > best_accuracy:\n",
        "        best_accuracy = accuracy\n",
        "        torch.save(model.state_dict(), \"models.pth\")\n",
        "        print(\"✔ Model Saved!\")"
      ]
    },
    {
      "cell_type": "code",
      "execution_count": 23,
      "metadata": {
        "colab": {
          "base_uri": "https://localhost:8080/",
          "height": 333
        },
        "id": "WjrPmHRgITRj",
        "outputId": "40ce9500-ff83-4b6d-a66e-8b4c4289b472"
      },
      "outputs": [
        {
          "data": {
            "image/png": "[encoded data removed]",
            "text/plain": [
              "<Figure size 1000x300 with 2 Axes>"
            ]
          },
          "metadata": {},
          "output_type": "display_data"
        }
      ],
      "source": [
        "plt.figure(figsize=(10, 3))\n",
        "\n",
        "# Plot Loss\n",
        "plt.subplot(1, 2, 1)\n",
        "plt.plot(train_losses, label='Training Loss')\n",
        "plt.xlabel('Epoch')\n",
        "plt.ylabel('Loss')\n",
        "plt.title('Training Loss over Epochs')\n",
        "plt.legend()\n",
        "\n",
        "# Plot Accuracy\n",
        "plt.subplot(1, 2, 2)\n",
        "plt.plot(val_accuracies, label='Validation Accuracy')\n",
        "plt.xlabel('Epoch')\n",
        "plt.ylabel('Accuracy')\n",
        "plt.title('Validation Accuracy over Epochs')\n",
        "plt.legend()\n",
        "\n",
        "plt.show()"
      ]
    },
    {
      "cell_type": "code",
      "execution_count": null,
      "metadata": {
        "id": "eT0KWcG67fiZ"
      },
      "outputs": [],
      "source": [
        "import torch\n",
        "torch.cuda.empty_cache()\n"
      ]
    },
    {
      "cell_type": "code",
      "execution_count": 24,
      "metadata": {
        "id": "yyFT0oSC56Dn"
      },
      "outputs": [],
      "source": [
        "def single_prediction(image_path, model, class_labels, device):\n",
        "    \"\"\"\n",
        "    Predicts the disease class of a plant leaf image using a trained CNN model.\n",
        "\n",
        "    Parameters:\n",
        "    - image_path (str): Path to the input image.\n",
        "    - model (torch.nn.Module): Trained CNN model.\n",
        "    - class_labels (list): List of class names.\n",
        "    - device (torch.device): Device where the model is running (CPU/GPU).\n",
        "\n",
        "    Returns:\n",
        "    - str: Predicted class name.\n",
        "    \"\"\"\n",
        "    # Load the image\n",
        "    try:\n",
        "        image = Image.open(image_path).convert(\"RGB\")  # Ensure it's an RGB image\n",
        "    except FileNotFoundError:\n",
        "        print(f\"Error: Image file not found at {image_path}\")\n",
        "        return None\n",
        "\n",
        "    # Define the transformation (should match training preprocessing)\n",
        "    transform = transforms.Compose([\n",
        "        transforms.Resize((224, 224)),\n",
        "        transforms.ToTensor(),\n",
        "        transforms.Normalize(mean=[0.5, 0.5, 0.5], std=[0.5, 0.5, 0.5])\n",
        "    ])\n",
        "\n",
        "    # Preprocess the image\n",
        "    image = transform(image).unsqueeze(0).to(device)  # Add batch dimension & move to correct device\n",
        "\n",
        "    # Ensure model is in evaluation mode\n",
        "    model.eval()\n",
        "\n",
        "    # Perform prediction\n",
        "    with torch.no_grad():\n",
        "        output = model(image)\n",
        "        predicted_class_idx = torch.argmax(output, dim=1).item()\n",
        "\n",
        "    # Get class name from label list\n",
        "    predicted_class = class_labels[predicted_class_idx]\n",
        "\n",
        "    return predicted_class\n"
      ]
    },
    {
      "cell_type": "code",
      "execution_count": 25,
      "metadata": {
        "colab": {
          "base_uri": "https://localhost:8080/"
        },
        "id": "GM5_LFonJEBV",
        "outputId": "0d7b41b0-50be-4dc2-d83a-7d64d599dbcf"
      },
      "outputs": [
        {
          "name": "stdout",
          "output_type": "stream",
          "text": [
            "Pepper__bell___Bacterial_spot\n"
          ]
        }
      ],
      "source": [
        "print(single_prediction(\"/content/PlantVillage/Pepper__bell___Bacterial_spot/0022d6b7-d47c-4ee2-ae9a-392a53f48647___JR_B.Spot 8964.JPG\", model, full_dataset.classes, device))\n"
      ]
    },
    {
      "cell_type": "code",
      "execution_count": 27,
      "metadata": {
        "colab": {
          "base_uri": "https://localhost:8080/"
        },
        "id": "kHhmv5ZlJKds",
        "outputId": "d2c78fe6-0b58-4c4b-c4d8-ea8d40964f20"
      },
      "outputs": [
        {
          "name": "stdout",
          "output_type": "stream",
          "text": [
            "Tomato_Bacterial_spot\n"
          ]
        }
      ],
      "source": [
        "print(single_prediction(\"/content/PlantVillage/Tomato_Bacterial_spot/00639d29-2d1a-4fcf-9bd3-a2b3109c74c4___UF.GRC_BS_Lab Leaf 1054.JPG\", model, full_dataset.classes, device))\n"
      ]
    }
  ],
  "metadata": {
    "accelerator": "GPU",
    "colab": {
      "gpuType": "T4",
      "provenance": []
    },
    "kernelspec": {
      "display_name": "Python 3",
      "name": "python3"
    }
  },
  "nbformat": 4,
  "nbformat_minor": 0
}
